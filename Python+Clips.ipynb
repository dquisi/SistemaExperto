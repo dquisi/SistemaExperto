{
 "cells": [
  {
   "cell_type": "markdown",
   "metadata": {},
   "source": [
    "# Sistemas Expertos basados en Reglas\n",
    "## Clips + Python\n",
    "Para instalar la libreria solo tenemos que ejecutar\n",
    "\n",
    "`pip install clipspy`\n",
    "\n",
    "Procedemos a verificar que la instalacion este correcta con la siguiente instruccion"
   ]
  },
  {
   "cell_type": "code",
   "execution_count": 1,
   "metadata": {},
   "outputs": [],
   "source": [
    "from clips import Environment, Symbol\n",
    "\n",
    "environment = Environment()"
   ]
  },
  {
   "cell_type": "markdown",
   "metadata": {},
   "source": [
    "Procedemos a cargar nuestro sistema basado en reglas, para ello utilizamos el metodo `load` y le enviamos el archivo .clp"
   ]
  },
  {
   "cell_type": "code",
   "execution_count": 40,
   "metadata": {},
   "outputs": [],
   "source": [
    "environment.load('familiares.clp')"
   ]
  },
  {
   "cell_type": "markdown",
   "metadata": {},
   "source": [
    "Procedemos a validar que se cargo el archivo de reglas con la siguiente instruccion"
   ]
  },
  {
   "cell_type": "code",
   "execution_count": 41,
   "metadata": {},
   "outputs": [
    {
     "data": {
      "text/plain": [
       "42"
      ]
     },
     "execution_count": 41,
     "metadata": {},
     "output_type": "execute_result"
    }
   ],
   "source": [
    "environment.reset()\n",
    "environment.run()"
   ]
  },
  {
   "cell_type": "markdown",
   "metadata": {},
   "source": [
    "Para revisar la base de reglas ejecutamos la siguiente instruccion:"
   ]
  },
  {
   "cell_type": "code",
   "execution_count": 42,
   "metadata": {},
   "outputs": [
    {
     "name": "stdout",
     "output_type": "stream",
     "text": [
      "(defrule MAIN::progenitor\n",
      "   (padre-de ?padre ?hijo)\n",
      "   (marido-de ?padre ?madre)\n",
      "   =>\n",
      "   (assert (progenitor-de ?madre ?hijo)))\n",
      "\n",
      "(defrule MAIN::esposa\n",
      "   (marido-de ?hombre ?mujer)\n",
      "   =>\n",
      "   (assert (esposa-de ?mujer ?hombre))\n",
      "   (printout t ?mujer \" es la esposa de \" ?hombre crlf))\n",
      "\n",
      "(defrule MAIN::padre\n",
      "   (progenitor-de ?padre ?hijo)\n",
      "   (hombre ?padre)\n",
      "   =>\n",
      "   (assert (padre-de ?padre ?hijo))\n",
      "   (printout t ?padre \" es padre de \" ?hijo crlf))\n",
      "\n",
      "(defrule MAIN::madre\n",
      "   (progenitor-de ?madre ?hijo)\n",
      "   (mujer ?madre)\n",
      "   =>\n",
      "   (assert (madre-de ?madre ?hijo))\n",
      "   (printout t ?madre \" es madre de\" ?hijo crlf))\n",
      "\n",
      "(defrule MAIN::abuelos\n",
      "   (progenitor-de ?padre ?hijo)\n",
      "   (progenitor-de ?hijo ?nieto)\n",
      "   =>\n",
      "   (assert (abuelos-de ?padre ?nieto)))\n",
      "\n",
      "(defrule MAIN::abuelo\n",
      "   (abuelos-de ?padre ?nieto)\n",
      "   (hombre ?padre)\n",
      "   =>\n",
      "   (assert (abuelo-de ?padre ?nieto))\n",
      "   (printout t ?padre \" es el abuelo de \" ?nieto crlf))\n",
      "\n",
      "(defrule MAIN::abuela\n",
      "   (abuelos-de ?madre ?nieto)\n",
      "   (mujer ?madre)\n",
      "   =>\n",
      "   (assert (abuelo-de ?madre ?nieto))\n",
      "   (printout t ?madre \" es el abuela de \" ?nieto crlf))\n",
      "\n",
      "(defrule MAIN::hermanos-padre\n",
      "   (padre-de ?padre ?hijo1)\n",
      "   (padre-de ?padre ?hijo2)\n",
      "   (test (neq ?hijo1 ?hijo2))\n",
      "   =>\n",
      "   (assert (hermanos ?hijo1 ?hijo2)))\n",
      "\n",
      "(defrule MAIN::hermanos-madre\n",
      "   (madre-de ?madre ?hijo1)\n",
      "   (madre-de ?madre ?hijo2)\n",
      "   (test (neq ?hijo1 ?hijo2))\n",
      "   =>\n",
      "   (assert (hermanos ?hijo1 ?hijo2)))\n",
      "\n",
      "(defrule MAIN::hermano\n",
      "   (hermanos ?hijo1 ?hijo2)\n",
      "   (hombre ?hijo1)\n",
      "   =>\n",
      "   (assert (hermano-de ?hijo1 ?hijo2))\n",
      "   (printout t ?hijo1 \" es hermano de \" ?hijo2 crlf))\n",
      "\n",
      "(defrule MAIN::hermana\n",
      "   (hermanos ?hijo1 ?hijo2)\n",
      "   (mujer ?hijo1)\n",
      "   =>\n",
      "   (assert (hermana-de ?hijo1 ?hijo2))\n",
      "   (printout t ?hijo1 \" es hermana de \" ?hijo2 crlf))\n",
      "\n",
      "(defrule MAIN::tios\n",
      "   (progenitor-de ?padre ?hijo)\n",
      "   (hermanos ?padre ?hermano)\n",
      "   =>\n",
      "   (assert (tios ?hermano ?hijo)))\n",
      "\n",
      "(defrule MAIN::tio\n",
      "   (tios ?tio ?sobrino)\n",
      "   (hombre ?tio)\n",
      "   =>\n",
      "   (assert (tio ?tio ?sobrino))\n",
      "   (printout t ?tio \" es tio de \" ?sobrino crlf))\n",
      "\n",
      "(defrule MAIN::tia\n",
      "   (tios ?tia ?sobrino)\n",
      "   (mujer ?tia)\n",
      "   =>\n",
      "   (assert (tia-de ?tia ?sobrino))\n",
      "   (printout t ?tia \" es tia de \" ?sobrino crlf))\n",
      "\n",
      "(defrule MAIN::sobrino\n",
      "   (tios ?tios ?sobrino)\n",
      "   (hombre ?sobrino)\n",
      "   =>\n",
      "   (assert (sobrino-de ?sobrino ?tios))\n",
      "   (printout t ?sobrino \" es sobrino de \" ?tios crlf))\n",
      "\n",
      "(defrule MAIN::sobrina\n",
      "   (tios ?tios ?sobrina)\n",
      "   (mujer ?sobrina)\n",
      "   =>\n",
      "   (assert (sobrina-de ?sobrina ?tios))\n",
      "   (printout t ?sobrina \" es sobrina de \" ?tios crlf))\n",
      "\n"
     ]
    }
   ],
   "source": [
    "for rule in environment.rules():\n",
    "    print(rule)"
   ]
  },
  {
   "cell_type": "markdown",
   "metadata": {},
   "source": [
    "Mostramos hechos registrados dentro de clips y la inferencia que obtuvo"
   ]
  },
  {
   "cell_type": "code",
   "execution_count": 43,
   "metadata": {},
   "outputs": [
    {
     "name": "stdout",
     "output_type": "stream",
     "text": [
      "(initial-fact)\n",
      "(hombre Ricardo)\n",
      "(mujer Fabiola)\n",
      "(hombre Andres)\n",
      "(mujer Rosa)\n",
      "(mujer Maria)\n",
      "(hombre Mario)\n",
      "(mujer Irene)\n",
      "(hombre David)\n",
      "(hombre Alejandro)\n",
      "f-10    (hombre Luis)\n",
      "f-11    (hombre Enrique)\n",
      "f-12    (progenitor-de Ricardo David)\n",
      "f-13    (progenitor-de Ricardo Alejandro)\n",
      "f-14    (progenitor-de Ricardo Mario)\n",
      "f-15    (marido-de Ricardo Fabiola)\n",
      "f-16    (progenitor-de David Luis)\n",
      "f-17    (marido-de David Rosa)\n",
      "f-18    (esposa-de Rosa David)\n",
      "f-19    (padre-de David Luis)\n",
      "f-20    (progenitor-de Rosa Luis)\n",
      "f-21    (madre-de Rosa Luis)\n",
      "f-22    (abuelos-de Ricardo Luis)\n",
      "f-23    (abuelo-de Ricardo Luis)\n",
      "f-24    (esposa-de Fabiola Ricardo)\n",
      "f-25    (padre-de Ricardo Mario)\n",
      "f-26    (progenitor-de Fabiola Mario)\n",
      "f-27    (madre-de Fabiola Mario)\n",
      "f-28    (padre-de Ricardo Alejandro)\n",
      "f-29    (progenitor-de Fabiola Alejandro)\n",
      "f-30    (madre-de Fabiola Alejandro)\n",
      "f-31    (hermanos Alejandro Mario)\n",
      "f-32    (hermano-de Alejandro Mario)\n",
      "f-33    (hermanos Mario Alejandro)\n",
      "f-34    (hermano-de Mario Alejandro)\n",
      "f-35    (padre-de Ricardo David)\n",
      "f-36    (progenitor-de Fabiola David)\n",
      "f-37    (madre-de Fabiola David)\n",
      "f-38    (hermanos David Alejandro)\n",
      "f-39    (hermano-de David Alejandro)\n",
      "f-40    (tios Alejandro Luis)\n",
      "f-41    (tio Alejandro Luis)\n",
      "f-42    (sobrino-de Luis Alejandro)\n",
      "f-43    (hermanos David Mario)\n",
      "f-44    (hermano-de David Mario)\n",
      "f-45    (tios Mario Luis)\n",
      "f-46    (tio Mario Luis)\n",
      "f-47    (sobrino-de Luis Mario)\n",
      "f-48    (hermanos Mario David)\n",
      "f-49    (hermano-de Mario David)\n",
      "f-50    (hermanos Alejandro David)\n",
      "f-51    (hermano-de Alejandro David)\n",
      "f-52    (abuelos-de Fabiola Luis)\n",
      "f-53    (abuelo-de Fabiola Luis)\n"
     ]
    }
   ],
   "source": [
    "for fact in environment.facts():\n",
    "    print(fact)"
   ]
  },
  {
   "cell_type": "markdown",
   "metadata": {},
   "source": [
    "Finalmente para agregar un echo en base a la informacion de lectura de un usuario desde python"
   ]
  },
  {
   "cell_type": "code",
   "execution_count": 55,
   "metadata": {},
   "outputs": [
    {
     "name": "stdout",
     "output_type": "stream",
     "text": [
      "Ingrese nombre del hijo: Cuenca\n",
      "Ingrese nombre del padre: Ricardo\n"
     ]
    },
    {
     "ename": "CLIPSError",
     "evalue": "",
     "output_type": "error",
     "traceback": [
      "\u001b[0;31m---------------------------------------------------------------------------\u001b[0m",
      "\u001b[0;31mCLIPSError\u001b[0m                                Traceback (most recent call last)",
      "\u001b[0;32m<ipython-input-55-5ba6f3f08f6f>\u001b[0m in \u001b[0;36m<module>\u001b[0;34m\u001b[0m\n\u001b[1;32m      4\u001b[0m \u001b[0;34m\u001b[0m\u001b[0m\n\u001b[1;32m      5\u001b[0m \u001b[0mfact_string_hom\u001b[0m \u001b[0;34m=\u001b[0m \u001b[0;34m'(hombre '\u001b[0m \u001b[0;34m+\u001b[0m \u001b[0mhijo\u001b[0m  \u001b[0;34m+\u001b[0m \u001b[0;34m')'\u001b[0m\u001b[0;34m\u001b[0m\u001b[0;34m\u001b[0m\u001b[0m\n\u001b[0;32m----> 6\u001b[0;31m \u001b[0mfact_hom\u001b[0m \u001b[0;34m=\u001b[0m \u001b[0menvironment\u001b[0m\u001b[0;34m.\u001b[0m\u001b[0massert_string\u001b[0m\u001b[0;34m(\u001b[0m\u001b[0mfact_string_hom\u001b[0m\u001b[0;34m)\u001b[0m\u001b[0;34m\u001b[0m\u001b[0;34m\u001b[0m\u001b[0m\n\u001b[0m\u001b[1;32m      7\u001b[0m \u001b[0mfact_string\u001b[0m \u001b[0;34m=\u001b[0m \u001b[0;34m'(progenitor-de '\u001b[0m \u001b[0;34m+\u001b[0m \u001b[0mpadre\u001b[0m \u001b[0;34m+\u001b[0m \u001b[0;34m' '\u001b[0m \u001b[0;34m+\u001b[0m  \u001b[0mhijo\u001b[0m  \u001b[0;34m+\u001b[0m \u001b[0;34m')'\u001b[0m\u001b[0;34m\u001b[0m\u001b[0;34m\u001b[0m\u001b[0m\n\u001b[1;32m      8\u001b[0m \u001b[0mfact\u001b[0m \u001b[0;34m=\u001b[0m \u001b[0menvironment\u001b[0m\u001b[0;34m.\u001b[0m\u001b[0massert_string\u001b[0m\u001b[0;34m(\u001b[0m\u001b[0mfact_string\u001b[0m\u001b[0;34m)\u001b[0m\u001b[0;34m\u001b[0m\u001b[0;34m\u001b[0m\u001b[0m\n",
      "\u001b[0;32m~/anaconda3/lib/python3.7/site-packages/clips/facts.py\u001b[0m in \u001b[0;36massert_string\u001b[0;34m(self, string)\u001b[0m\n\u001b[1;32m     96\u001b[0m \u001b[0;34m\u001b[0m\u001b[0m\n\u001b[1;32m     97\u001b[0m         \u001b[0;32mif\u001b[0m \u001b[0mfact\u001b[0m \u001b[0;34m==\u001b[0m \u001b[0mffi\u001b[0m\u001b[0;34m.\u001b[0m\u001b[0mNULL\u001b[0m\u001b[0;34m:\u001b[0m\u001b[0;34m\u001b[0m\u001b[0;34m\u001b[0m\u001b[0m\n\u001b[0;32m---> 98\u001b[0;31m             \u001b[0;32mraise\u001b[0m \u001b[0mCLIPSError\u001b[0m\u001b[0;34m(\u001b[0m\u001b[0mself\u001b[0m\u001b[0;34m.\u001b[0m\u001b[0m_env\u001b[0m\u001b[0;34m)\u001b[0m\u001b[0;34m\u001b[0m\u001b[0;34m\u001b[0m\u001b[0m\n\u001b[0m\u001b[1;32m     99\u001b[0m \u001b[0;34m\u001b[0m\u001b[0m\n\u001b[1;32m    100\u001b[0m         \u001b[0;32mreturn\u001b[0m \u001b[0mnew_fact\u001b[0m\u001b[0;34m(\u001b[0m\u001b[0mself\u001b[0m\u001b[0;34m.\u001b[0m\u001b[0m_env\u001b[0m\u001b[0;34m,\u001b[0m \u001b[0mfact\u001b[0m\u001b[0;34m)\u001b[0m\u001b[0;34m\u001b[0m\u001b[0;34m\u001b[0m\u001b[0m\n",
      "\u001b[0;31mCLIPSError\u001b[0m: "
     ]
    }
   ],
   "source": [
    "# El error se debe a que ya existia un hecho confirmando que Ricardo es un hombre (hombre Ricardo)\n",
    "hijo = input(\"Ingrese nombre del hijo: \")\n",
    "padre = input(\"Ingrese nombre del padre: \")\n",
    "\n",
    "fact_string_hom = '(hombre ' + hijo  + ')'\n",
    "fact_hom = environment.assert_string(fact_string_hom)\n",
    "fact_string = '(progenitor-de ' + padre + ' ' +  hijo  + ')'\n",
    "fact = environment.assert_string(fact_string)"
   ]
  },
  {
   "cell_type": "markdown",
   "metadata": {},
   "source": [
    "### Ojo: Si ya existe un hecho en el motor o dupicamos la ejecucion del mismo nos sale un error :\n",
    "if fact == ffi.NULL:\n",
    "---> 98             raise CLIPSError(self._env)\n",
    "     99 \n",
    "    100         return new_fact(self._env, fact)\n",
    "CLIPSError: \n",
    "\n",
    "Es por ello que debemos o bien reinicar el entorno, validar con un try - catch o simplemente no duplicar los hechos.\n",
    "\n",
    "Validamos el nuevo Hecho y ejecutamos el motor de inferencia en donde evidenciamos ya las nuevas inferencias de nuestro motor."
   ]
  },
  {
   "cell_type": "code",
   "execution_count": 56,
   "metadata": {
    "scrolled": true
   },
   "outputs": [
    {
     "name": "stdout",
     "output_type": "stream",
     "text": [
      "(initial-fact)\n",
      "(hombre Ricardo)\n",
      "(mujer Fabiola)\n",
      "(hombre Andres)\n",
      "(mujer Rosa)\n",
      "(mujer Maria)\n",
      "(hombre Mario)\n",
      "(mujer Irene)\n",
      "(hombre David)\n",
      "(hombre Alejandro)\n",
      "f-10    (hombre Luis)\n",
      "f-11    (hombre Enrique)\n",
      "f-12    (progenitor-de Ricardo David)\n",
      "f-13    (progenitor-de Ricardo Alejandro)\n",
      "f-14    (progenitor-de Ricardo Mario)\n",
      "f-15    (marido-de Ricardo Fabiola)\n",
      "f-16    (progenitor-de David Luis)\n",
      "f-17    (marido-de David Rosa)\n",
      "f-18    (esposa-de Rosa David)\n",
      "f-19    (padre-de David Luis)\n",
      "f-20    (progenitor-de Rosa Luis)\n",
      "f-21    (madre-de Rosa Luis)\n",
      "f-22    (abuelos-de Ricardo Luis)\n",
      "f-23    (abuelo-de Ricardo Luis)\n",
      "f-24    (esposa-de Fabiola Ricardo)\n",
      "f-25    (padre-de Ricardo Mario)\n",
      "f-26    (progenitor-de Fabiola Mario)\n",
      "f-27    (madre-de Fabiola Mario)\n",
      "f-28    (padre-de Ricardo Alejandro)\n",
      "f-29    (progenitor-de Fabiola Alejandro)\n",
      "f-30    (madre-de Fabiola Alejandro)\n",
      "f-31    (hermanos Alejandro Mario)\n",
      "f-32    (hermano-de Alejandro Mario)\n",
      "f-33    (hermanos Mario Alejandro)\n",
      "f-34    (hermano-de Mario Alejandro)\n",
      "f-35    (padre-de Ricardo David)\n",
      "f-36    (progenitor-de Fabiola David)\n",
      "f-37    (madre-de Fabiola David)\n",
      "f-38    (hermanos David Alejandro)\n",
      "f-39    (hermano-de David Alejandro)\n",
      "f-40    (tios Alejandro Luis)\n",
      "f-41    (tio Alejandro Luis)\n",
      "f-42    (sobrino-de Luis Alejandro)\n",
      "f-43    (hermanos David Mario)\n",
      "f-44    (hermano-de David Mario)\n",
      "f-45    (tios Mario Luis)\n",
      "f-46    (tio Mario Luis)\n",
      "f-47    (sobrino-de Luis Mario)\n",
      "f-48    (hermanos Mario David)\n",
      "f-49    (hermano-de Mario David)\n",
      "f-50    (hermanos Alejandro David)\n",
      "f-51    (hermano-de Alejandro David)\n",
      "f-52    (abuelos-de Fabiola Luis)\n",
      "f-53    (abuelo-de Fabiola Luis)\n",
      "f-54    (hombre Cuenca)\n",
      "f-55    (progenitor-de Ricardo Cuenca)\n",
      "f-56    (padre-de Ricardo Cuenca)\n",
      "f-57    (progenitor-de Fabiola Cuenca)\n",
      "f-58    (madre-de Fabiola Cuenca)\n",
      "f-59    (hermanos Cuenca David)\n",
      "f-60    (hermano-de Cuenca David)\n",
      "f-61    (hermanos Cuenca Alejandro)\n",
      "f-62    (hermano-de Cuenca Alejandro)\n",
      "f-63    (hermanos Cuenca Mario)\n",
      "f-64    (hermano-de Cuenca Mario)\n",
      "f-65    (hermanos Mario Cuenca)\n",
      "f-66    (hermano-de Mario Cuenca)\n",
      "f-67    (hermanos Alejandro Cuenca)\n",
      "f-68    (hermano-de Alejandro Cuenca)\n",
      "f-69    (hermanos David Cuenca)\n",
      "f-70    (hermano-de David Cuenca)\n",
      "f-71    (tios Cuenca Luis)\n",
      "f-72    (tio Cuenca Luis)\n",
      "f-73    (sobrino-de Luis Cuenca)\n"
     ]
    }
   ],
   "source": [
    "environment.run()\n",
    "for fact in environment.facts():\n",
    "    print(fact)\n"
   ]
  },
  {
   "cell_type": "code",
   "execution_count": 59,
   "metadata": {},
   "outputs": [],
   "source": [
    "# Implementar\n",
    "# Realizar un sistema que permita ingresar los datos mediante una interfaz grafica (Tkinter) \n",
    "# Graficar el Árbol genealógico"
   ]
  },
  {
   "cell_type": "markdown",
   "metadata": {},
   "source": [
    "# Referencias\n",
    "[1] https://pypi.org/project/clipspy/\n",
    "\n",
    "[2]  Documentacion Oficial : https://clipspy.readthedocs.io/en/latest/ "
   ]
  }
 ],
 "metadata": {
  "kernelspec": {
   "display_name": "Python 3",
   "language": "python",
   "name": "python3"
  },
  "language_info": {
   "codemirror_mode": {
    "name": "ipython",
    "version": 3
   },
   "file_extension": ".py",
   "mimetype": "text/x-python",
   "name": "python",
   "nbconvert_exporter": "python",
   "pygments_lexer": "ipython3",
   "version": "3.7.3"
  }
 },
 "nbformat": 4,
 "nbformat_minor": 2
}
